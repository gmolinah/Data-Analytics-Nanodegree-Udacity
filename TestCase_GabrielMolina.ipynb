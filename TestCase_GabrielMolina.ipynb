{
  "nbformat": 4,
  "nbformat_minor": 0,
  "metadata": {
    "colab": {
      "name": "TestCase_GabrielMolina.ipynb",
      "provenance": [],
      "authorship_tag": "ABX9TyMgrzB5ZMJxYMap6u20Htat",
      "include_colab_link": true
    },
    "kernelspec": {
      "name": "python3",
      "display_name": "Python 3"
    }
  },
  "cells": [
    {
      "cell_type": "markdown",
      "metadata": {
        "id": "view-in-github",
        "colab_type": "text"
      },
      "source": [
        "<a href=\"https://colab.research.google.com/github/gmolinah/Data-Analytics-Nanodegree-Udacity/blob/main/TestCase_GabrielMolina.ipynb\" target=\"_parent\"><img src=\"https://colab.research.google.com/assets/colab-badge.svg\" alt=\"Open In Colab\"/></a>"
      ]
    },
    {
      "cell_type": "code",
      "metadata": {
        "id": "BXYiqpw8wZai"
      },
      "source": [
        "#hola"
      ],
      "execution_count": null,
      "outputs": []
    }
  ]
}