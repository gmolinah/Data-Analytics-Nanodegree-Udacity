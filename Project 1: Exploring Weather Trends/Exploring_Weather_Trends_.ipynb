{
  "nbformat": 4,
  "nbformat_minor": 0,
  "metadata": {
    "colab": {
      "name": "Exploring Weather Trends .ipynb",
      "provenance": [],
      "authorship_tag": "ABX9TyPPcTpIip16HHF886f0DC/1",
      "include_colab_link": true
    },
    "kernelspec": {
      "name": "python3",
      "display_name": "Python 3"
    }
  },
  "cells": [
    {
      "cell_type": "markdown",
      "metadata": {
        "id": "view-in-github",
        "colab_type": "text"
      },
      "source": [
        "<a href=\"https://colab.research.google.com/github/gmolinah/Data-Analytics-Nanodegree-Udacity/blob/main/Project%201%3A%20Exploring%20Weather%20Trends/Exploring_Weather_Trends_.ipynb\" target=\"_parent\"><img src=\"https://colab.research.google.com/assets/colab-badge.svg\" alt=\"Open In Colab\"/></a>"
      ]
    },
    {
      "cell_type": "code",
      "metadata": {
        "id": "3oGTyAMaEV1e"
      },
      "source": [
        "'asdf'"
      ],
      "execution_count": null,
      "outputs": []
    }
  ]
}